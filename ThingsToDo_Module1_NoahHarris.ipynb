{
 "cells": [
  {
   "cell_type": "code",
   "execution_count": 14,
   "id": "335878f0",
   "metadata": {},
   "outputs": [
    {
     "name": "stdout",
     "output_type": "stream",
     "text": [
      "There are 3600 seconds in an hour.\n"
     ]
    }
   ],
   "source": [
    "# 3.1\n",
    "seconds_in_minute = 60\n",
    "minutes_in_hour = 60\n",
    "\n",
    "print(\"There are\", seconds_in_minute * minutes_in_hour, \"seconds in an hour.\")\n",
    "\n"
   ]
  },
  {
   "cell_type": "code",
   "execution_count": 7,
   "id": "821cd5f0",
   "metadata": {},
   "outputs": [
    {
     "name": "stdout",
     "output_type": "stream",
     "text": [
      "There are 3600 seconds in an hour.\n"
     ]
    }
   ],
   "source": [
    "# 3.2\n",
    "seconds_in_minute = 60\n",
    "minutes_in_hour = 60\n",
    "\n",
    "seconds_per_hour = seconds_in_minute * minutes_in_hour\n",
    "print(\"There are\", seconds_per_hour, \"seconds in an hour.\")"
   ]
  },
  {
   "cell_type": "code",
   "execution_count": 8,
   "id": "80759a13",
   "metadata": {},
   "outputs": [
    {
     "name": "stdout",
     "output_type": "stream",
     "text": [
      "There are 86400 seconds in a day.\n"
     ]
    }
   ],
   "source": [
    "# 3.3\n",
    "seconds_in_minute = 60\n",
    "minutes_in_hour = 60\n",
    "\n",
    "seconds_per_hour = seconds_in_minute * minutes_in_hour\n",
    "print(\"There are\", seconds_per_hour * 24, \"seconds in a day.\")"
   ]
  },
  {
   "cell_type": "code",
   "execution_count": 9,
   "id": "7077a6a1",
   "metadata": {},
   "outputs": [
    {
     "name": "stdout",
     "output_type": "stream",
     "text": [
      "There are 86400 seconds in a day.\n"
     ]
    }
   ],
   "source": [
    "# 3.4\n",
    "seconds_in_minute = 60\n",
    "minutes_in_hour = 60\n",
    "\n",
    "seconds_per_hour = seconds_in_minute * minutes_in_hour\n",
    "seconds_per_day = seconds_per_hour * 24\n",
    "\n",
    "print(\"There are\", seconds_per_day, \"seconds in a day.\")"
   ]
  },
  {
   "cell_type": "code",
   "execution_count": 10,
   "id": "54601c9c",
   "metadata": {},
   "outputs": [
    {
     "name": "stdout",
     "output_type": "stream",
     "text": [
      "24.0\n"
     ]
    }
   ],
   "source": [
    "# 3.5\n",
    "seconds_in_minute = 60\n",
    "minutes_in_hour = 60\n",
    "\n",
    "seconds_per_hour = seconds_in_minute * minutes_in_hour\n",
    "seconds_per_day = seconds_per_hour * 24\n",
    "\n",
    "print(seconds_per_day/seconds_per_hour)"
   ]
  },
  {
   "cell_type": "code",
   "execution_count": 13,
   "id": "db5fd53c",
   "metadata": {},
   "outputs": [
    {
     "name": "stdout",
     "output_type": "stream",
     "text": [
      "24\n"
     ]
    }
   ],
   "source": [
    "# 3.6\n",
    "seconds_in_minute = 60\n",
    "minutes_in_hour = 60\n",
    "\n",
    "seconds_per_hour = seconds_in_minute * minutes_in_hour\n",
    "seconds_per_day = seconds_per_hour * 24\n",
    "\n",
    "print(seconds_per_day//seconds_per_hour)"
   ]
  },
  {
   "cell_type": "markdown",
   "id": "03befbaa",
   "metadata": {},
   "source": [
    "<p> This number did agree with the previous question.</p>"
   ]
  },
  {
   "cell_type": "code",
   "execution_count": null,
   "id": "ee8eae54",
   "metadata": {},
   "outputs": [],
   "source": []
  }
 ],
 "metadata": {
  "kernelspec": {
   "display_name": "Python 3 (ipykernel)",
   "language": "python",
   "name": "python3"
  },
  "language_info": {
   "codemirror_mode": {
    "name": "ipython",
    "version": 3
   },
   "file_extension": ".py",
   "mimetype": "text/x-python",
   "name": "python",
   "nbconvert_exporter": "python",
   "pygments_lexer": "ipython3",
   "version": "3.11.5"
  }
 },
 "nbformat": 4,
 "nbformat_minor": 5
}
